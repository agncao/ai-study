{
 "cells": [
  {
   "cell_type": "markdown",
   "metadata": {},
   "source": [
    "# 关于分词器的操作"
   ]
  },
  {
   "cell_type": "code",
   "execution_count": 7,
   "metadata": {},
   "outputs": [
    {
     "name": "stdout",
     "output_type": "stream",
     "text": [
      "cl100k_base\n",
      "100277\n",
      "<Encoding 'cl100k_base'>\n",
      "----------------------------------------\n",
      "[9906, 11, 1917, 0]\n",
      "4\n",
      "Hello, world!\n",
      "----------------------------------------\n",
      "[44388, 87502, 54872, 25287, 33035, 40053, 11883, 35304, 37026, 28833, 99046, 246, 31634, 5486, 83125, 6701, 249, 19967, 5486, 47200, 45059, 50667, 89902, 3922, 92019, 20600, 29172, 84844, 34048, 17620, 44915, 3922, 69636, 54872, 25287, 47548, 13821, 106, 8239, 102, 61648, 21403, 102, 89783, 9554, 17161, 22656, 1811]\n",
      "这种模型通常用于自动摘要、文章创作、代码生成等任务，其中用户提供部分内容，而模型则帮助完成剩余的文本。\n",
      "----------------------------------------\n",
      "[b'\\xe8\\xbf\\x99', b'\\xe7\\xa7\\x8d', b'\\xe6\\xa8\\xa1', b'\\xe5\\x9e\\x8b', b'\\xe9\\x80\\x9a', b'\\xe5\\xb8\\xb8', b'\\xe7\\x94\\xa8', b'\\xe4\\xba\\x8e', b'\\xe8\\x87\\xaa', b'\\xe5\\x8a\\xa8', b'\\xe6\\x91', b'\\x98', b'\\xe8\\xa6\\x81', b'\\xe3\\x80\\x81', b'\\xe6\\x96\\x87\\xe7\\xab\\xa0', b'\\xe5\\x88', b'\\x9b', b'\\xe4\\xbd\\x9c', b'\\xe3\\x80\\x81', b'\\xe4\\xbb\\xa3\\xe7\\xa0\\x81', b'\\xe7\\x94\\x9f\\xe6\\x88\\x90', b'\\xe7\\xad\\x89', b'\\xe4\\xbb\\xbb\\xe5\\x8a\\xa1', b'\\xef\\xbc\\x8c', b'\\xe5\\x85\\xb6\\xe4\\xb8\\xad', b'\\xe7\\x94\\xa8\\xe6\\x88\\xb7', b'\\xe6\\x8f\\x90', b'\\xe4\\xbe\\x9b', b'\\xe9\\x83\\xa8', b'\\xe5\\x88\\x86', b'\\xe5\\x86\\x85\\xe5\\xae\\xb9', b'\\xef\\xbc\\x8c', b'\\xe8\\x80\\x8c', b'\\xe6\\xa8\\xa1', b'\\xe5\\x9e\\x8b', b'\\xe5\\x88\\x99', b'\\xe5\\xb8', b'\\xae', b'\\xe5\\x8a', b'\\xa9', b'\\xe5\\xae\\x8c\\xe6\\x88\\x90', b'\\xe5\\x89', b'\\xa9', b'\\xe4\\xbd\\x99', b'\\xe7\\x9a\\x84', b'\\xe6\\x96\\x87', b'\\xe6\\x9c\\xac', b'\\xe3\\x80\\x82']\n"
     ]
    }
   ],
   "source": [
    "import tiktoken\n",
    "\n",
    "tokenizer = tiktoken.encoding_for_model(\"text-embedding-ada-002\")\n",
    "print(tokenizer.name)\n",
    "print(tokenizer.n_vocab)\n",
    "print(tokenizer)\n",
    "print(20*'--')\n",
    "\n",
    "res1 = tokenizer.encode(\"Hello, world!\")\n",
    "print(res1)\n",
    "print(len(res1))\n",
    "print(tokenizer.decode(res1))\n",
    "print(20*'--')\n",
    "\n",
    "res2 = tokenizer.encode('这种模型通常用于自动摘要、文章创作、代码生成等任务，其中用户提供部分内容，而模型则帮助完成剩余的文本。')\n",
    "print(res2)\n",
    "print(tokenizer.decode(res2))\n",
    "print(20*'--')\n",
    "\n",
    "# 把每一个整数还原成一个词条（token）\n",
    "words = [tokenizer.decode_single_token_bytes(token) for token in res2 ]\n",
    "print(words)"
   ]
  }
 ],
 "metadata": {
  "kernelspec": {
   "display_name": "base",
   "language": "python",
   "name": "python3"
  },
  "language_info": {
   "codemirror_mode": {
    "name": "ipython",
    "version": 3
   },
   "file_extension": ".py",
   "mimetype": "text/x-python",
   "name": "python",
   "nbconvert_exporter": "python",
   "pygments_lexer": "ipython3",
   "version": "3.12.8"
  }
 },
 "nbformat": 4,
 "nbformat_minor": 2
}
